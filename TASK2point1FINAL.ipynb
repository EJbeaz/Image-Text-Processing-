{
 "cells": [
  {
   "cell_type": "code",
   "execution_count": 2,
   "metadata": {},
   "outputs": [
    {
     "name": "stderr",
     "output_type": "stream",
     "text": [
      "2023-05-13 14:00:03.078498: I tensorflow/core/platform/cpu_feature_guard.cc:182] This TensorFlow binary is optimized to use available CPU instructions in performance-critical operations.\n",
      "To enable the following instructions: AVX2 FMA, in other operations, rebuild TensorFlow with the appropriate compiler flags.\n"
     ]
    }
   ],
   "source": [
    "import pandas as pd\n",
    "import numpy as np\n",
    "from sklearn.model_selection import train_test_split\n",
    "from keras.preprocessing.text import Tokenizer\n",
    "from keras.utils import pad_sequences\n",
    "from keras.models import Sequential\n",
    "from keras.layers import Embedding, Dense, MaxPool1D, Conv1D, Flatten, Dropout\n",
    "from keras.optimizers import Adam\n",
    "from sklearn.metrics import accuracy_score, f1_score, confusion_matrix, ConfusionMatrixDisplay\n",
    "from sklearn.preprocessing import MultiLabelBinarizer\n",
    "import matplotlib.pyplot as plt"
   ]
  },
  {
   "cell_type": "code",
   "execution_count": 3,
   "metadata": {},
   "outputs": [],
   "source": [
    "df = pd.read_csv('/Users/ejbeazleigh/Downloads/Assessment2Data/data_for_sentiment_analyzis/amazon_reviews.csv')\n",
    "df = df[df['cleaned_review'].notna()]"
   ]
  },
  {
   "cell_type": "code",
   "execution_count": 4,
   "metadata": {},
   "outputs": [],
   "source": [
    "def mkls(row):\n",
    "    return row['sentiments'].split(' ')\n",
    "\n",
    "df['labels'] = df[['sentiments']].apply(mkls, axis='columns')"
   ]
  },
  {
   "cell_type": "code",
   "execution_count": 5,
   "metadata": {},
   "outputs": [
    {
     "data": {
      "text/html": [
       "<div>\n",
       "<style scoped>\n",
       "    .dataframe tbody tr th:only-of-type {\n",
       "        vertical-align: middle;\n",
       "    }\n",
       "\n",
       "    .dataframe tbody tr th {\n",
       "        vertical-align: top;\n",
       "    }\n",
       "\n",
       "    .dataframe thead th {\n",
       "        text-align: right;\n",
       "    }\n",
       "</style>\n",
       "<table border=\"1\" class=\"dataframe\">\n",
       "  <thead>\n",
       "    <tr style=\"text-align: right;\">\n",
       "      <th></th>\n",
       "      <th>sentiments</th>\n",
       "      <th>cleaned_review</th>\n",
       "      <th>cleaned_review_length</th>\n",
       "      <th>review_score</th>\n",
       "      <th>labels</th>\n",
       "    </tr>\n",
       "  </thead>\n",
       "  <tbody>\n",
       "    <tr>\n",
       "      <th>0</th>\n",
       "      <td>positive</td>\n",
       "      <td>i wish would have gotten one earlier love it a...</td>\n",
       "      <td>19</td>\n",
       "      <td>5.0</td>\n",
       "      <td>[positive]</td>\n",
       "    </tr>\n",
       "    <tr>\n",
       "      <th>1</th>\n",
       "      <td>neutral</td>\n",
       "      <td>i ve learned this lesson again open the packag...</td>\n",
       "      <td>88</td>\n",
       "      <td>1.0</td>\n",
       "      <td>[neutral]</td>\n",
       "    </tr>\n",
       "    <tr>\n",
       "      <th>2</th>\n",
       "      <td>neutral</td>\n",
       "      <td>it is so slow and lags find better option</td>\n",
       "      <td>9</td>\n",
       "      <td>2.0</td>\n",
       "      <td>[neutral]</td>\n",
       "    </tr>\n",
       "    <tr>\n",
       "      <th>3</th>\n",
       "      <td>neutral</td>\n",
       "      <td>roller ball stopped working within months of m...</td>\n",
       "      <td>12</td>\n",
       "      <td>1.0</td>\n",
       "      <td>[neutral]</td>\n",
       "    </tr>\n",
       "    <tr>\n",
       "      <th>4</th>\n",
       "      <td>neutral</td>\n",
       "      <td>i like the color and size but it few days out ...</td>\n",
       "      <td>21</td>\n",
       "      <td>1.0</td>\n",
       "      <td>[neutral]</td>\n",
       "    </tr>\n",
       "  </tbody>\n",
       "</table>\n",
       "</div>"
      ],
      "text/plain": [
       "  sentiments                                     cleaned_review  \\\n",
       "0   positive  i wish would have gotten one earlier love it a...   \n",
       "1    neutral  i ve learned this lesson again open the packag...   \n",
       "2    neutral          it is so slow and lags find better option   \n",
       "3    neutral  roller ball stopped working within months of m...   \n",
       "4    neutral  i like the color and size but it few days out ...   \n",
       "\n",
       "   cleaned_review_length  review_score      labels  \n",
       "0                     19           5.0  [positive]  \n",
       "1                     88           1.0   [neutral]  \n",
       "2                      9           2.0   [neutral]  \n",
       "3                     12           1.0   [neutral]  \n",
       "4                     21           1.0   [neutral]  "
      ]
     },
     "execution_count": 5,
     "metadata": {},
     "output_type": "execute_result"
    }
   ],
   "source": [
    "df.head()"
   ]
  },
  {
   "cell_type": "code",
   "execution_count": 6,
   "metadata": {},
   "outputs": [],
   "source": [
    "x = df['cleaned_review'].values\n",
    "y = list(df['labels'].values)"
   ]
  },
  {
   "cell_type": "code",
   "execution_count": 7,
   "metadata": {},
   "outputs": [
    {
     "name": "stdout",
     "output_type": "stream",
     "text": [
      "['negative' 'neutral' 'positive']\n"
     ]
    }
   ],
   "source": [
    "mlb = MultiLabelBinarizer()\n",
    "y = mlb.fit_transform(y)\n",
    "print(mlb.classes_)\n",
    "\n",
    "trainX, testX, trainY, testY = train_test_split(x,y, test_size=0.3)\n",
    "\n",
    "trainY = np.array(trainY)\n",
    "testY = np.array(testY)"
   ]
  },
  {
   "cell_type": "code",
   "execution_count": 8,
   "metadata": {},
   "outputs": [],
   "source": [
    "max_len = 100\n",
    "emb_dim = 100\n",
    "\n",
    "tokenizer = Tokenizer(num_words=10000)\n",
    "tokenizer.fit_on_texts(trainX)\n",
    "trainX = tokenizer.texts_to_sequences(np.array(trainX))\n",
    "testX = tokenizer.texts_to_sequences(np.array(testX))\n",
    "vocab = len(tokenizer.word_index) + 1\n",
    "trainX = pad_sequences(trainX, padding='post',maxlen=max_len)\n",
    "testX = pad_sequences(testX, padding='post',maxlen=max_len)"
   ]
  },
  {
   "cell_type": "code",
   "execution_count": 9,
   "metadata": {},
   "outputs": [
    {
     "name": "stdout",
     "output_type": "stream",
     "text": [
      "(12135, 100) (12135, 3) (5202, 100) (5202, 3)\n"
     ]
    }
   ],
   "source": [
    "print(trainX.shape, trainY.shape, testX.shape, testY.shape)"
   ]
  },
  {
   "cell_type": "code",
   "execution_count": 12,
   "metadata": {},
   "outputs": [],
   "source": [
    "from keras.utils import pad_sequences\n",
    "from keras.models import Sequential\n",
    "from keras.layers import Embedding, Dense, MaxPool1D, Conv1D, Flatten, Dropout\n",
    "from keras.optimizers import Adam\n",
    "\n",
    "#Define and build the CNN model (Convolutional Neural Network)\n",
    "CNNmodel = Sequential()\n",
    "CNNmodel.add(Embedding(input_dim=vocab, output_dim=emb_dim, input_length=max_len))\n",
    "CNNmodel.add(Conv1D(64,5,activation='relu'))\n",
    "CNNmodel.add(MaxPool1D(5))\n",
    "CNNmodel.add(Conv1D(128,5,activation='relu'))\n",
    "CNNmodel.add(MaxPool1D(5))\n",
    "CNNmodel.add(Flatten())\n",
    "CNNmodel.add(Dense(40, activation='relu'))\n",
    "CNNmodel.add(Dropout(rate=0.6))\n",
    "CNNmodel.add(Dense(3, activation='softmax'))"
   ]
  },
  {
   "cell_type": "code",
   "execution_count": 14,
   "metadata": {},
   "outputs": [
    {
     "name": "stdout",
     "output_type": "stream",
     "text": [
      "Model: \"sequential_1\"\n",
      "_________________________________________________________________\n",
      " Layer (type)                Output Shape              Param #   \n",
      "=================================================================\n",
      " embedding_1 (Embedding)     (None, 100, 100)          843300    \n",
      "                                                                 \n",
      " conv1d_2 (Conv1D)           (None, 96, 64)            32064     \n",
      "                                                                 \n",
      " max_pooling1d_2 (MaxPooling  (None, 19, 64)           0         \n",
      " 1D)                                                             \n",
      "                                                                 \n",
      " conv1d_3 (Conv1D)           (None, 15, 128)           41088     \n",
      "                                                                 \n",
      " max_pooling1d_3 (MaxPooling  (None, 3, 128)           0         \n",
      " 1D)                                                             \n",
      "                                                                 \n",
      " flatten_1 (Flatten)         (None, 384)               0         \n",
      "                                                                 \n",
      " dense_2 (Dense)             (None, 40)                15400     \n",
      "                                                                 \n",
      " dropout_1 (Dropout)         (None, 40)                0         \n",
      "                                                                 \n",
      " dense_3 (Dense)             (None, 3)                 123       \n",
      "                                                                 \n",
      "=================================================================\n",
      "Total params: 931,975\n",
      "Trainable params: 931,975\n",
      "Non-trainable params: 0\n",
      "_________________________________________________________________\n"
     ]
    }
   ],
   "source": [
    "CNNmodel.compile(optimizer='Adam',loss='categorical_crossentropy',metrics=['accuracy'])\n",
    "CNNmodel.summary()"
   ]
  },
  {
   "cell_type": "code",
   "execution_count": 15,
   "metadata": {},
   "outputs": [
    {
     "name": "stdout",
     "output_type": "stream",
     "text": [
      "Epoch 1/10\n",
      "759/759 [==============================] - 18s 23ms/step - loss: 0.6389 - accuracy: 0.7405\n",
      "Epoch 2/10\n",
      "759/759 [==============================] - 16s 21ms/step - loss: 0.4130 - accuracy: 0.8410\n",
      "Epoch 3/10\n",
      "759/759 [==============================] - 16s 21ms/step - loss: 0.2915 - accuracy: 0.8890\n",
      "Epoch 4/10\n",
      "759/759 [==============================] - 17s 22ms/step - loss: 0.2049 - accuracy: 0.9211\n",
      "Epoch 5/10\n",
      "759/759 [==============================] - 16s 21ms/step - loss: 0.1481 - accuracy: 0.9484\n",
      "Epoch 6/10\n",
      "759/759 [==============================] - 16s 21ms/step - loss: 0.1184 - accuracy: 0.9600\n",
      "Epoch 7/10\n",
      "759/759 [==============================] - 16s 22ms/step - loss: 0.0854 - accuracy: 0.9718\n",
      "Epoch 8/10\n",
      "759/759 [==============================] - 16s 21ms/step - loss: 0.0778 - accuracy: 0.9747\n",
      "Epoch 9/10\n",
      "759/759 [==============================] - 17s 22ms/step - loss: 0.0623 - accuracy: 0.9787\n",
      "Epoch 10/10\n",
      "759/759 [==============================] - 16s 21ms/step - loss: 0.0529 - accuracy: 0.9837\n"
     ]
    },
    {
     "data": {
      "text/plain": [
       "<keras.callbacks.History at 0x13681aa10>"
      ]
     },
     "execution_count": 15,
     "metadata": {},
     "output_type": "execute_result"
    }
   ],
   "source": [
    "# Train the CNN classifier on the training data\n",
    "CNNmodel.fit(trainX,trainY,epochs=10,batch_size=16)"
   ]
  },
  {
   "cell_type": "code",
   "execution_count": 16,
   "metadata": {},
   "outputs": [
    {
     "name": "stdout",
     "output_type": "stream",
     "text": [
      "163/163 [==============================] - 1s 5ms/step\n"
     ]
    }
   ],
   "source": [
    "# Test the CNN classifier on the testing data\n",
    "\n",
    "prediction1 = CNNmodel.predict(testX)"
   ]
  },
  {
   "cell_type": "code",
   "execution_count": 17,
   "metadata": {},
   "outputs": [],
   "source": [
    "prediction1 = [np.argmax(i) for i in prediction1]\n",
    "ground_truth = [np.argmax(i) for i in testY]"
   ]
  },
  {
   "cell_type": "code",
   "execution_count": 20,
   "metadata": {},
   "outputs": [
    {
     "name": "stdout",
     "output_type": "stream",
     "text": [
      "Accuracy: 0.8835063437139562\n",
      "F1-Score: 0.8392689811782966\n",
      "Precison: 0.8582288239906593\n",
      "Recall: 0.8240836291168834\n"
     ]
    }
   ],
   "source": [
    "from sklearn.metrics import accuracy_score,f1_score, confusion_matrix \n",
    "import seaborn as sns \n",
    "from sklearn.metrics import precision_score, recall_score\n",
    "\n",
    "# Calculate performance metrics and generate confusion matrix\n",
    "acc = accuracy_score(ground_truth,prediction1)\n",
    "f1 = f1_score(ground_truth,prediction1,average='macro')\n",
    "cm = confusion_matrix(ground_truth,prediction1)\n",
    "print(f'Accuracy: {acc}\\nF1-Score: {f1}')\n",
    "precision = precision_score(ground_truth, prediction1, average='macro')\n",
    "recall = recall_score(ground_truth, prediction1, average='macro')\n",
    "print(f'Precison: {precision}\\nRecall: {recall}')\n",
    "\n",
    "\n",
    "#display = ConfusionMatrixDisplay(confusion_matrix=cm, display_labels=mlb.classes_)\n",
    "#display.plot()\n",
    "#plt.show()\n"
   ]
  },
  {
   "cell_type": "code",
   "execution_count": 90,
   "metadata": {},
   "outputs": [
    {
     "data": {
      "image/png": "[encoded data removed]",
      "text/plain": [
       "<Figure size 640x480 with 2 Axes>"
      ]
     },
     "metadata": {},
     "output_type": "display_data"
    },
    {
     "data": {
      "text/plain": [
       "<Figure size 640x480 with 0 Axes>"
      ]
     },
     "metadata": {},
     "output_type": "display_data"
    },
    {
     "name": "stdout",
     "output_type": "stream",
     "text": [
      "Accuracy: 0.8835063437139562\n",
      "F1-Score: 0.8392689811782966\n",
      "Precison: 0.8582288239906593\n",
      "Recall: 0.8240836291168834\n"
     ]
    }
   ],
   "source": [
    "import matplotlib.pyplot as plt\n",
    "from sklearn import svm\n",
    "from sklearn.model_selection import GridSearchCV\n",
    "from sklearn.model_selection import train_test_split\n",
    "from sklearn.metrics import accuracy_score\n",
    "from sklearn.metrics import classification_report\n",
    "from sklearn.model_selection import StratifiedKFold, GridSearchCV\n",
    "from sklearn.neighbors import KNeighborsClassifier\n",
    "from sklearn.metrics import accuracy_score,f1_score, confusion_matrix \n",
    "import seaborn as sns\n",
    "\n",
    "ax = plt.axes()\n",
    "sns.heatmap(cm,ax=ax,annot=True,fmt='g',cmap='Purples',square=True)\n",
    "fig = plt.figure()\n",
    "fig.patch.set_facecolor('xkcd:grey')\n",
    "ax.set_title('Convolutional Neural Network Model confusion matrix')\n",
    "ax.set_xlabel('Predicted')\n",
    "ax.set_ylabel('Actual')\n",
    "plt.show()\n",
    "print(f'Accuracy: {acc}\\nF1-Score: {f1}')\n",
    "print(f'Precison: {precision}\\nRecall: {recall}')"
   ]
  },
  {
   "cell_type": "code",
   "execution_count": 43,
   "metadata": {},
   "outputs": [
    {
     "name": "stdout",
     "output_type": "stream",
     "text": [
      "['negative' 'neutral' 'positive']\n",
      "(12135, 100) (12135,) (5202, 100) (5202,)\n"
     ]
    }
   ],
   "source": [
    "print(mlb.classes_)\n",
    "print(trainX.shape, trainY.shape, testX.shape, testY.shape)"
   ]
  },
  {
   "cell_type": "code",
   "execution_count": 79,
   "metadata": {},
   "outputs": [],
   "source": [
    "import numpy as np\n",
    "from keras.models import Sequential\n",
    "from keras.layers import Dense, Dropout, Embedding, Flatten\n",
    "from keras.optimizers import Adam\n",
    "from sklearn.metrics import accuracy_score, precision_score, recall_score, f1_score, confusion_matrix\n",
    "from keras.utils import to_categorical\n",
    "\n",
    "# Reshape the input data to match the expected shape of the model\n",
    "trainXreshaped = np.reshape(trainX, (trainX.shape[0], trainX.shape[1]))\n",
    "testXreshaped = np.reshape(testX, (testX.shape[0], testX.shape[1]))\n",
    "\n",
    "# Convert ground truth labels to categorical\n",
    "trainYcat = to_categorical(trainY, 3)\n",
    "testYcat = to_categorical(testY, 3)"
   ]
  },
  {
   "cell_type": "code",
   "execution_count": 81,
   "metadata": {},
   "outputs": [],
   "source": [
    "import numpy as np\n",
    "from keras.models import Sequential\n",
    "from keras.layers import Dense, Dropout, Embedding\n",
    "from keras.optimizers import Adam\n",
    "from sklearn.metrics import accuracy_score, precision_score, recall_score, f1_score, confusion_matrix\n",
    "import numpy as np\n",
    "from keras.models import Sequential\n",
    "from keras.layers import Dense, Dropout, Embedding, GlobalMaxPooling1D\n",
    "\n",
    "# Define the architecture of the fully connected neural network (FCNN)\n",
    "FCNNmodel = Sequential()\n",
    "FCNNmodel.add(Embedding(input_dim=vocab, output_dim=emb_dim, input_length=max_len))\n",
    "FCNNmodel.add(GlobalMaxPooling1D())\n",
    "FCNNmodel.add(Dense(64, activation='relu'))\n",
    "FCNNmodel.add(Dropout(0.3))\n",
    "FCNNmodel.add(Dense(3, activation='softmax'))"
   ]
  },
  {
   "cell_type": "code",
   "execution_count": 82,
   "metadata": {},
   "outputs": [
    {
     "name": "stdout",
     "output_type": "stream",
     "text": [
      "Model: \"sequential_14\"\n",
      "_________________________________________________________________\n",
      " Layer (type)                Output Shape              Param #   \n",
      "=================================================================\n",
      " embedding_11 (Embedding)    (None, 100, 100)          841300    \n",
      "                                                                 \n",
      " global_max_pooling1d (Globa  (None, 100)              0         \n",
      " lMaxPooling1D)                                                  \n",
      "                                                                 \n",
      " dense_25 (Dense)            (None, 64)                6464      \n",
      "                                                                 \n",
      " dropout_22 (Dropout)        (None, 64)                0         \n",
      "                                                                 \n",
      " dense_26 (Dense)            (None, 3)                 195       \n",
      "                                                                 \n",
      "=================================================================\n",
      "Total params: 847,959\n",
      "Trainable params: 847,959\n",
      "Non-trainable params: 0\n",
      "_________________________________________________________________\n"
     ]
    }
   ],
   "source": [
    "#compiling my FCNN model \n",
    "FCNNmodel.compile(optimizer=Adam(learning_rate=0.001), loss='categorical_crossentropy', metrics=['accuracy'])\n",
    "FCNNmodel.summary()"
   ]
  },
  {
   "cell_type": "code",
   "execution_count": 83,
   "metadata": {
    "scrolled": true
   },
   "outputs": [
    {
     "name": "stdout",
     "output_type": "stream",
     "text": [
      "Epoch 1/10\n",
      "380/380 [==============================] - 5s 13ms/step - loss: 0.6947 - accuracy: 0.7058\n",
      "Epoch 2/10\n",
      "380/380 [==============================] - 5s 12ms/step - loss: 0.4148 - accuracy: 0.8254\n",
      "Epoch 3/10\n",
      "380/380 [==============================] - 5s 12ms/step - loss: 0.3010 - accuracy: 0.8830\n",
      "Epoch 4/10\n",
      "380/380 [==============================] - 5s 12ms/step - loss: 0.2195 - accuracy: 0.9186\n",
      "Epoch 5/10\n",
      "380/380 [==============================] - 7s 18ms/step - loss: 0.1590 - accuracy: 0.9451\n",
      "Epoch 6/10\n",
      "380/380 [==============================] - 6s 15ms/step - loss: 0.1086 - accuracy: 0.9652\n",
      "Epoch 7/10\n",
      "380/380 [==============================] - 7s 18ms/step - loss: 0.0740 - accuracy: 0.9792\n",
      "Epoch 8/10\n",
      "380/380 [==============================] - 7s 18ms/step - loss: 0.0489 - accuracy: 0.9867\n",
      "Epoch 9/10\n",
      "380/380 [==============================] - 6s 17ms/step - loss: 0.0298 - accuracy: 0.9941\n",
      "Epoch 10/10\n",
      "380/380 [==============================] - 7s 18ms/step - loss: 0.0194 - accuracy: 0.9965\n"
     ]
    },
    {
     "data": {
      "text/plain": [
       "<keras.callbacks.History at 0x13939aa10>"
      ]
     },
     "execution_count": 83,
     "metadata": {},
     "output_type": "execute_result"
    }
   ],
   "source": [
    "\n",
    "# Train the FCNN model\n",
    "FCNNmodel.fit(trainXreshaped, trainYcat, batch_size=32, epochs=10, verbose=1)\n",
    "\n"
   ]
  },
  {
   "cell_type": "code",
   "execution_count": 84,
   "metadata": {},
   "outputs": [
    {
     "name": "stdout",
     "output_type": "stream",
     "text": [
      "163/163 [==============================] - 1s 3ms/step\n"
     ]
    }
   ],
   "source": [
    "# Test the model\n",
    "prediction2 = FCNNmodel.predict(testX)"
   ]
  },
  {
   "cell_type": "code",
   "execution_count": 85,
   "metadata": {},
   "outputs": [],
   "source": [
    "prediction2 = [np.argmax(i) for i in prediction2]\n",
    "ground_truth = [np.argmax(i) for i in testY2]"
   ]
  },
  {
   "cell_type": "code",
   "execution_count": 86,
   "metadata": {},
   "outputs": [
    {
     "name": "stdout",
     "output_type": "stream",
     "text": [
      "Accuracy: 0.881199538638985\n",
      "F1-Score: 0.8270532304417005\n",
      "Precison: 0.847880506703519\n",
      "Recall: 0.8106166445409823\n"
     ]
    }
   ],
   "source": [
    "# Calculate performance metrics and generate confusion matrix\n",
    "acc2 = accuracy_score(ground_truth,prediction2)\n",
    "f12 = f1_score(ground_truth,prediction2,average='macro')\n",
    "cm2 = confusion_matrix(ground_truth,prediction2)\n",
    "print(f'Accuracy: {acc2}\\nF1-Score: {f12}')\n",
    "\n",
    "precision2 = precision_score(ground_truth, prediction2, average='macro')\n",
    "recall2 = recall_score(ground_truth, prediction2, average='macro')\n",
    "print(f'Precison: {precision2}\\nRecall: {recall2}')\n"
   ]
  },
  {
   "cell_type": "code",
   "execution_count": 88,
   "metadata": {},
   "outputs": [
    {
     "data": {
      "image/png": "[encoded data removed]",
      "text/plain": [
       "<Figure size 640x480 with 2 Axes>"
      ]
     },
     "metadata": {},
     "output_type": "display_data"
    },
    {
     "data": {
      "text/plain": [
       "<Figure size 640x480 with 0 Axes>"
      ]
     },
     "metadata": {},
     "output_type": "display_data"
    },
    {
     "name": "stdout",
     "output_type": "stream",
     "text": [
      "Accuracy: 0.881199538638985\n",
      "F1-Score: 0.8270532304417005\n",
      "Precison: 0.847880506703519\n",
      "Recall: 0.8106166445409823\n"
     ]
    }
   ],
   "source": [
    "import matplotlib.pyplot as plt\n",
    "from sklearn import svm\n",
    "from sklearn.model_selection import GridSearchCV\n",
    "from sklearn.model_selection import train_test_split\n",
    "from sklearn.metrics import accuracy_score\n",
    "from sklearn.metrics import classification_report\n",
    "from sklearn.model_selection import StratifiedKFold, GridSearchCV\n",
    "from sklearn.neighbors import KNeighborsClassifier\n",
    "from sklearn.metrics import accuracy_score,f1_score, confusion_matrix \n",
    "import seaborn as sns\n",
    "\n",
    "\n",
    "ax = plt.axes()\n",
    "sns.heatmap(cm2,ax=ax,annot=True,fmt='g',cmap='Purples',square=True)\n",
    "fig = plt.figure()\n",
    "fig.patch.set_facecolor('xkcd:grey')\n",
    "ax.set_title('Fully Connected Neural Network Model confusion matrix')\n",
    "ax.set_xlabel('Predicted')\n",
    "ax.set_ylabel('Actual')\n",
    "plt.show()\n",
    "print(f'Accuracy: {acc2}\\nF1-Score: {f12}')\n",
    "print(f'Precison: {precision2}\\nRecall: {recall2}')\n"
   ]
  },
  {
   "cell_type": "code",
   "execution_count": null,
   "metadata": {},
   "outputs": [],
   "source": []
  }
 ],
 "metadata": {
  "kernelspec": {
   "display_name": "Python 3 (ipykernel)",
   "language": "python",
   "name": "python3"
  },
  "language_info": {
   "codemirror_mode": {
    "name": "ipython",
    "version": 3
   },
   "file_extension": ".py",
   "mimetype": "text/x-python",
   "name": "python",
   "nbconvert_exporter": "python",
   "pygments_lexer": "ipython3",
   "version": "3.11.0"
  }
 },
 "nbformat": 4,
 "nbformat_minor": 2
}
